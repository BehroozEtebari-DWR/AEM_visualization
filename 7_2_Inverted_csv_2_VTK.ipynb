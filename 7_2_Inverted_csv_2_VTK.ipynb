{
 "cells": [
  {
   "cell_type": "code",
   "execution_count": 2,
   "id": "c9f866c6-68c3-4639-9056-345bd0f75398",
   "metadata": {},
   "outputs": [],
   "source": [
    "import pandas as pd\n",
    "import pyvista as pv"
   ]
  },
  {
   "cell_type": "code",
   "execution_count": 1,
   "id": "777801c3-823f-4105-b16b-08eda6629e88",
   "metadata": {},
   "outputs": [
    {
     "name": "stdout",
     "output_type": "stream",
     "text": [
      "VTK file saved at: invertedAEM_CV_with_altitudes.vtk\n"
     ]
    }
   ],
   "source": [
    "import pandas as pd\n",
    "import pyvista as pv\n",
    "\n",
    "# Step 1: Load the CSV file\n",
    "csv_file = r\"Updated_AEM_INVERTED.csv\"\n",
    "df = pd.read_csv(csv_file)\n",
    "\n",
    "# Ensure spatial columns are present\n",
    "required_columns = ['UTMX_26910', 'UTMY_26910', 'ELEVATION_ft', 'Altitude_TOP_ft', 'Altitude_BOT_ft']\n",
    "missing_columns = [col for col in required_columns if col not in df.columns]\n",
    "if missing_columns:\n",
    "    raise ValueError(f\"Missing required columns: {', '.join(missing_columns)}\")\n",
    "\n",
    "# Step 2: Extract spatial coordinates\n",
    "points = df[['UTMX_26910', 'UTMY_26910', 'Altitude_TOP_ft']].values\n",
    "\n",
    "# Step 3: Prepare attributes (excluding DEP_TOP_* and DEP_BOT_*)\n",
    "excluded_columns = ['UTMX_26910', 'UTMY_26910', 'ELEVATION_ft', 'Altitude_TOP_ft']\n",
    "attributes = df[[col for col in df.columns if col not in excluded_columns]]\n",
    "\n",
    "# Create a PyVista PolyData object\n",
    "point_cloud = pv.PolyData(points)\n",
    "\n",
    "# Add additional columns as point data\n",
    "for col in attributes.columns:\n",
    "    # Ensure no NaN values\n",
    "    point_cloud[col] = attributes[col].fillna(0).values\n",
    "\n",
    "# Save the PolyData object to a VTK file\n",
    "output_vtk = r\"invertedAEM_CV_with_altitudes.vtk\"\n",
    "point_cloud.save(output_vtk)\n",
    "\n",
    "print(f\"VTK file saved at: {output_vtk}\")"
   ]
  },
  {
   "cell_type": "code",
   "execution_count": null,
   "id": "295bf4f9-21f2-4e5d-9bfc-d36e2b732a59",
   "metadata": {},
   "outputs": [],
   "source": []
  }
 ],
 "metadata": {
  "kernelspec": {
   "display_name": "Python [conda env:.conda-pyvista]",
   "language": "python",
   "name": "conda-env-.conda-pyvista-py"
  },
  "language_info": {
   "codemirror_mode": {
    "name": "ipython",
    "version": 3
   },
   "file_extension": ".py",
   "mimetype": "text/x-python",
   "name": "python",
   "nbconvert_exporter": "python",
   "pygments_lexer": "ipython3",
   "version": "3.12.7"
  }
 },
 "nbformat": 4,
 "nbformat_minor": 5
}
